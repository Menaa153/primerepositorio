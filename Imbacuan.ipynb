{
  "nbformat": 4,
  "nbformat_minor": 0,
  "metadata": {
    "colab": {
      "provenance": [],
      "authorship_tag": "ABX9TyM8ZhQ8mbFRhVMsV8+ZDPOz",
      "include_colab_link": true
    },
    "kernelspec": {
      "name": "python3",
      "display_name": "Python 3"
    },
    "language_info": {
      "name": "python"
    }
  },
  "cells": [
    {
      "cell_type": "markdown",
      "metadata": {
        "id": "view-in-github",
        "colab_type": "text"
      },
      "source": [
        "<a href=\"https://colab.research.google.com/github/Menaa153/primerepositorio/blob/main/Imbacuan.ipynb\" target=\"_parent\"><img src=\"https://colab.research.google.com/assets/colab-badge.svg\" alt=\"Open In Colab\"/></a>"
      ]
    },
    {
      "cell_type": "markdown",
      "source": [
        "#primer ejercico"
      ],
      "metadata": {
        "id": "75gOBoh13pom"
      }
    },
    {
      "cell_type": "code",
      "execution_count": null,
      "metadata": {
        "colab": {
          "base_uri": "https://localhost:8080/"
        },
        "id": "mzrTRT2V2BWG",
        "outputId": "850a47eb-ac88-4b3c-f260-eda9885d7a99"
      },
      "outputs": [
        {
          "output_type": "stream",
          "name": "stdout",
          "text": [
            "Hola mundo\n"
          ]
        }
      ],
      "source": [
        "print(\"Buenas mundo\")"
      ]
    },
    {
      "cell_type": "markdown",
      "source": [
        "#Segundo ejercicio"
      ],
      "metadata": {
        "id": "o4JOCHCh4Yfu"
      }
    },
    {
      "cell_type": "code",
      "source": [
        "print(\"Buenas, Cristian\")"
      ],
      "metadata": {
        "colab": {
          "base_uri": "https://localhost:8080/"
        },
        "id": "KOIxt5wp4e5O",
        "outputId": "6e915e3d-d380-46e1-af4f-ed8268cf2efe"
      },
      "execution_count": null,
      "outputs": [
        {
          "output_type": "stream",
          "name": "stdout",
          "text": [
            "Hola, Cristian\n"
          ]
        }
      ]
    },
    {
      "cell_type": "code",
      "source": [
        "cua1=int(input())\n",
        "cua2=int(input())\n",
        "\n",
        "list=[]\n",
        "\n",
        "area1=cua1*cua1\n",
        "area2=cua2*cua2\n",
        "\n",
        "dif=area1-area2\n",
        "\n",
        "print(list+[area1]+[area2]+[dif])"
      ],
      "metadata": {
        "id": "xpLw8Zq55vNf"
      },
      "execution_count": null,
      "outputs": []
    }
  ]
}